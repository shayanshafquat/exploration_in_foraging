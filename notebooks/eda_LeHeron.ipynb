{
 "cells": [
  {
   "cell_type": "code",
   "execution_count": 53,
   "metadata": {},
   "outputs": [],
   "source": [
    "import sys\n",
    "import scipy.io\n",
    "import numpy as np\n",
    "sys.path.append('../src')\n",
    "import pandas as pd\n",
    "import matplotlib.pyplot as plt\n",
    "from mvt_brr import MVTModel"
   ]
  },
  {
   "cell_type": "code",
   "execution_count": 41,
   "metadata": {},
   "outputs": [],
   "source": [
    "data = scipy.io.loadmat('../leheron_trialbytrial/leheron_blockSwitchIndex.mat')\n",
    "block_order_df = pd.read_csv('../leheron_trialbytrial/leheron_blockOrder.csv')\n",
    "df_trials = pd.read_csv(\"../leheron_trialbytrial/leheron_trialbytrial.csv\")"
   ]
  },
  {
   "cell_type": "code",
   "execution_count": 13,
   "metadata": {},
   "outputs": [],
   "source": [
    "block_switch_index = data['blockSwitchIndex']\n",
    "n_subjects = block_switch_index.shape[1]"
   ]
  },
  {
   "cell_type": "code",
   "execution_count": 36,
   "metadata": {},
   "outputs": [
    {
     "data": {
      "text/plain": [
       "1    1\n",
       "2    2\n",
       "Name: 0, dtype: int64"
      ]
     },
     "execution_count": 36,
     "metadata": {},
     "output_type": "execute_result"
    }
   ],
   "source": [
    "block_order_df.iloc[0,]"
   ]
  },
  {
   "cell_type": "code",
   "execution_count": 55,
   "metadata": {},
   "outputs": [],
   "source": [
    "# for i in range(n_subjects):\n",
    "#     # Access the i-th subject's data, which is in the form of a 2D array\n",
    "#     subject_data = block_switch_index[0, i]\n",
    "    \n",
    "#     # Flatten the subject data array to 1D if needed\n",
    "#     subject_data = subject_data.flatten()\n",
    "    \n",
    "#     print(f\"Subject {i+1}:\\nTrial length: {len(subject_data)}\")\n",
    "#     # print(subject_data)\n",
    "#     block_switches = np.where(subject_data == 1)[0]  # Find indices where block switches occur (value is 1)\n",
    "#     if block_order_df.iloc[0, 0] == 1:\n",
    "#         print(f\"Rich->Poor at {block_switches[-1]+1} timestep\")\n",
    "#     else:\n",
    "#         print(f\"Poor->Rich at {block_switches[-1]+1} timestep\")"
   ]
  },
  {
   "cell_type": "markdown",
   "metadata": {},
   "source": [
    "23 July"
   ]
  },
  {
   "cell_type": "code",
   "execution_count": 43,
   "metadata": {},
   "outputs": [
    {
     "data": {
      "text/html": [
       "<div>\n",
       "<style scoped>\n",
       "    .dataframe tbody tr th:only-of-type {\n",
       "        vertical-align: middle;\n",
       "    }\n",
       "\n",
       "    .dataframe tbody tr th {\n",
       "        vertical-align: top;\n",
       "    }\n",
       "\n",
       "    .dataframe thead th {\n",
       "        text-align: right;\n",
       "    }\n",
       "</style>\n",
       "<table border=\"1\" class=\"dataframe\">\n",
       "  <thead>\n",
       "    <tr style=\"text-align: right;\">\n",
       "      <th></th>\n",
       "      <th>sub</th>\n",
       "      <th>patch</th>\n",
       "      <th>env</th>\n",
       "      <th>leaveT</th>\n",
       "      <th>meanLT</th>\n",
       "      <th>dmLeave</th>\n",
       "    </tr>\n",
       "  </thead>\n",
       "  <tbody>\n",
       "    <tr>\n",
       "      <th>0</th>\n",
       "      <td>1</td>\n",
       "      <td>3</td>\n",
       "      <td>1</td>\n",
       "      <td>45.034784</td>\n",
       "      <td>40.532927</td>\n",
       "      <td>4.501856</td>\n",
       "    </tr>\n",
       "    <tr>\n",
       "      <th>1</th>\n",
       "      <td>1</td>\n",
       "      <td>2</td>\n",
       "      <td>1</td>\n",
       "      <td>44.403900</td>\n",
       "      <td>40.532927</td>\n",
       "      <td>3.870973</td>\n",
       "    </tr>\n",
       "    <tr>\n",
       "      <th>2</th>\n",
       "      <td>1</td>\n",
       "      <td>3</td>\n",
       "      <td>1</td>\n",
       "      <td>61.168672</td>\n",
       "      <td>40.532927</td>\n",
       "      <td>20.635745</td>\n",
       "    </tr>\n",
       "    <tr>\n",
       "      <th>3</th>\n",
       "      <td>1</td>\n",
       "      <td>1</td>\n",
       "      <td>1</td>\n",
       "      <td>26.803514</td>\n",
       "      <td>40.532927</td>\n",
       "      <td>-13.729413</td>\n",
       "    </tr>\n",
       "    <tr>\n",
       "      <th>4</th>\n",
       "      <td>1</td>\n",
       "      <td>3</td>\n",
       "      <td>1</td>\n",
       "      <td>56.992002</td>\n",
       "      <td>40.532927</td>\n",
       "      <td>16.459075</td>\n",
       "    </tr>\n",
       "  </tbody>\n",
       "</table>\n",
       "</div>"
      ],
      "text/plain": [
       "   sub  patch  env     leaveT     meanLT    dmLeave\n",
       "0    1      3    1  45.034784  40.532927   4.501856\n",
       "1    1      2    1  44.403900  40.532927   3.870973\n",
       "2    1      3    1  61.168672  40.532927  20.635745\n",
       "3    1      1    1  26.803514  40.532927 -13.729413\n",
       "4    1      3    1  56.992002  40.532927  16.459075"
      ]
     },
     "execution_count": 43,
     "metadata": {},
     "output_type": "execute_result"
    }
   ],
   "source": [
    "df_trials.head(5)"
   ]
  },
  {
   "cell_type": "code",
   "execution_count": 45,
   "metadata": {},
   "outputs": [
    {
     "name": "stdout",
     "output_type": "stream",
     "text": [
      "   env  patch  mean_leaveT  sd_leaveT\n",
      "0    1      1    11.137706   6.020383\n",
      "1    1      2    15.051354   6.435201\n",
      "2    1      3    19.709716   7.450578\n",
      "3    2      1    14.309812   6.639575\n",
      "4    2      2    18.947625   7.008822\n",
      "5    2      3    23.441306   7.471792\n"
     ]
    }
   ],
   "source": [
    "grouped_df = df_trials.groupby(['env', 'patch']).agg(\n",
    "    mean_leaveT=('leaveT','mean'),\n",
    "    sd_leaveT=('leaveT', 'std')\n",
    ").reset_index()\n",
    "\n",
    "print(grouped_df)"
   ]
  },
  {
   "cell_type": "code",
   "execution_count": 57,
   "metadata": {},
   "outputs": [],
   "source": [
    "model = MVTModel(decay_type='exponential')\n",
    "MVT_rich, MVT_poor = model.run()"
   ]
  },
  {
   "cell_type": "code",
   "execution_count": 61,
   "metadata": {},
   "outputs": [
    {
     "data": {
      "image/png": "[encoded data removed]",
      "text/plain": [
       "<Figure size 400x400 with 1 Axes>"
      ]
     },
     "metadata": {},
     "output_type": "display_data"
    }
   ],
   "source": [
    "envs = grouped_df['env'].unique()\n",
    "\n",
    "colors = {1: 'blue', 2: 'green'}\n",
    "labels = {1: 'Rich', 2:'Poor'}\n",
    "\n",
    "plt.figure(figsize=(4, 4))\n",
    "\n",
    "for env in envs:\n",
    "    env_data = grouped_df[grouped_df['env']==env]\n",
    "\n",
    "    plt.errorbar(\n",
    "        env_data['patch'],\n",
    "        env_data['mean_leaveT'],\n",
    "        yerr=env_data['sd_leaveT'],\n",
    "        fmt='o-',\n",
    "        capsize = 5,\n",
    "        capthick = 2,\n",
    "        color = colors[env],\n",
    "        label = labels[env]\n",
    "    )\n",
    "plt.plot([1, 2, 3], MVT_rich, 'b--', label='Optimal Rich')\n",
    "plt.plot([1, 2, 3], MVT_poor, 'g--', label='Optimal Poor')\n",
    "plt.xticks([1, 2, 3], ['Low', \"Mid\", \"High\"])\n",
    "\n",
    "plt.xlabel('Patch Type')\n",
    "plt.ylabel('Patch Leaving Time (s)')\n",
    "plt.title('Patch Leaving Time by Patch Yield and Environment')\n",
    "plt.legend()\n",
    "# plt.legend(title='Subjects')\n",
    "\n",
    "plt.show()"
   ]
  },
  {
   "cell_type": "code",
   "execution_count": null,
   "metadata": {},
   "outputs": [],
   "source": []
  }
 ],
 "metadata": {
  "kernelspec": {
   "display_name": "my_foraging",
   "language": "python",
   "name": "python3"
  },
  "language_info": {
   "codemirror_mode": {
    "name": "ipython",
    "version": 3
   },
   "file_extension": ".py",
   "mimetype": "text/x-python",
   "name": "python",
   "nbconvert_exporter": "python",
   "pygments_lexer": "ipython3",
   "version": "3.9.10"
  }
 },
 "nbformat": 4,
 "nbformat_minor": 2
}
