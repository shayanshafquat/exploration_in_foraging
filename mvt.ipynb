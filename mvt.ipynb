{
 "cells": [
  {
   "cell_type": "code",
   "execution_count": null,
   "metadata": {},
   "outputs": [],
   "source": [
    "# # Step 3: Test Implementation vs MVT Predictions\n",
    "\n",
    "# # Step 3a: Does increasing patch yield = longer staying time?\n",
    "# increased_yields = np.linspace(1, 20, P)\n",
    "# longer_stay_times = [compute_mvt_leave_time(Patch(yield_, decay_rate), background_reward_rate) for yield_ in increased_yields]\n",
    "\n",
    "# plt.figure(figsize=(10, 6))\n",
    "# plt.plot(increased_yields, longer_stay_times, label='MVT Predicted Stay Times')\n",
    "# plt.xlabel('Patch Yield')\n",
    "# plt.ylabel('Predicted Stay Time')\n",
    "# plt.title('Effect of Increasing Patch Yield on Stay Time')\n",
    "# plt.legend()\n",
    "# plt.show()\n",
    "\n",
    "# # Step 3b: Does a richer environment = shorter staying time?\n",
    "# richer_environment = np.random.rand(P) * 20\n",
    "# background_richer_rate = np.mean(richer_environment) * decay_rate\n",
    "# shorter_stay_times = [compute_mvt_leave_time(Patch(yield_, decay_rate), background_richer_rate) for yield_ in initial_yields]\n",
    "\n",
    "# plt.figure(figsize=(10, 6))\n",
    "# plt.plot(initial_yields, shorter_stay_times, label='MVT Predicted Stay Times in Richer Environment')\n",
    "# plt.xlabel('Patch Yield')\n",
    "# plt.ylabel('Predicted Stay Time')\n",
    "# plt.title('Effect of Richer Environment on Stay Time')\n",
    "# plt.legend()\n",
    "# plt.show()\n",
    "\n",
    "# # Step 3c: Does the agent overharvest? If not, what would make it overharvest?\n",
    "# def compute_agent_overharvest(patch, agent, leave_time):\n",
    "#     patch.start_harvesting()\n",
    "#     rewards = []\n",
    "#     time = 0\n",
    "#     while time < leave_time:\n",
    "#         reward = patch.get_reward()\n",
    "#         rewards.append(reward)\n",
    "#         if agent.choose_action(rewards) == 1:\n",
    "#             return True  # Agent leaves earlier than MVT prediction\n",
    "#         time += 1\n",
    "#     return False  # Agent stays as per MVT prediction\n",
    "\n",
    "# overharvest_results = [compute_agent_overharvest(Patch(yield_, decay_rate), agent, leave_time) for yield_, leave_time in zip(initial_yields, longer_stay_times)]\n",
    "\n",
    "# print(f\"Agent Overharvest Results: {overharvest_results}\")\n",
    "\n",
    "# # Plot the results\n",
    "# plt.plot(total_rewards)\n",
    "# plt.xlabel('Patch Number')\n",
    "# plt.ylabel('Total Reward')\n",
    "# plt.title('Total Reward Collected from Each Patch')\n",
    "# plt.show()"
   ]
  }
 ],
 "metadata": {
  "language_info": {
   "name": "python"
  }
 },
 "nbformat": 4,
 "nbformat_minor": 2
}
