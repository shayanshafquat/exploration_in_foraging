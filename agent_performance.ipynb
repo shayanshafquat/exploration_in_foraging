{
 "cells": [
  {
   "cell_type": "code",
   "execution_count": 1,
   "metadata": {},
   "outputs": [],
   "source": [
    "import numpy as np\n",
    "import matplotlib.pyplot as plt\n",
    "from world import Patch, Agent"
   ]
  },
  {
   "cell_type": "code",
   "execution_count": 2,
   "metadata": {},
   "outputs": [],
   "source": [
    "# Step 1a: Specify a world with P patch types and N patches\n",
    "P = 5  # Number of patch types\n",
    "N = 10  # Number of patches\n",
    "patch_types = np.random.choice(P, N, replace=True)\n",
    "initial_yields = np.random.rand(P) * 10  # Initial yield for each patch type\n",
    "decay_rate = 0.1  # Decay rate for all patches"
   ]
  },
  {
   "cell_type": "code",
   "execution_count": 6,
   "metadata": {},
   "outputs": [],
   "source": [
    "# Step 1a: Create patches based on the world specification\n",
    "patches = [Patch(initial_yields[patch_type], decay_rate) for patch_type in patch_types]\n",
    "agent = Agent(beta=0.2)  # Softmax parameter"
   ]
  },
  {
   "cell_type": "code",
   "execution_count": 32,
   "metadata": {},
   "outputs": [
    {
     "data": {
      "text/plain": [
       "1.0"
      ]
     },
     "execution_count": 32,
     "metadata": {},
     "output_type": "execute_result"
    }
   ],
   "source": [
    "reward = 0.5\n",
    "np.exp(beta * reward) / np.sum(np.exp(beta * reward))"
   ]
  },
  {
   "cell_type": "code",
   "execution_count": 31,
   "metadata": {},
   "outputs": [
    {
     "name": "stdout",
     "output_type": "stream",
     "text": [
      "<world.Patch object at 0x1265e83d0>\n",
      "0.11486475511969603\n",
      "1.0\n",
      "0.10393392844583856\n",
      "1.0\n",
      "0.09404330746126668\n",
      "1.0\n",
      "0.08509390350681448\n",
      "1.0\n",
      "0.07699614793970705\n",
      "1.0\n",
      "0.06966899570047932\n",
      "1.0\n",
      "0.0630391141867801\n",
      "1.0\n",
      "0.0570401493160401\n",
      "1.0\n",
      "0.051612061431511355\n",
      "1.0\n",
      "0.04670052440520204\n",
      "1.0\n",
      "0.04225638192372834\n",
      "1.0\n",
      "<world.Patch object at 0x1265e8190>\n",
      "6.271403133545539\n",
      "1.0\n",
      "<world.Patch object at 0x1265e87f0>\n",
      "2.085979694506981\n",
      "1.0\n",
      "<world.Patch object at 0x1265e85b0>\n",
      "0.29233335756377765\n",
      "1.0\n",
      "<world.Patch object at 0x1265e8e20>\n",
      "6.271403133545539\n",
      "1.0\n",
      "<world.Patch object at 0x1265e8a90>\n",
      "6.271403133545539\n",
      "1.0\n",
      "<world.Patch object at 0x1265e80d0>\n",
      "0.29233335756377765\n",
      "1.0\n",
      "<world.Patch object at 0x1265e86a0>\n",
      "2.9812642421798503\n",
      "1.0\n",
      "<world.Patch object at 0x1265e8fa0>\n",
      "6.271403133545539\n",
      "1.0\n",
      "<world.Patch object at 0x1265e8e50>\n",
      "6.588644454576106\n",
      "1.0\n"
     ]
    }
   ],
   "source": [
    "leave_times = []\n",
    "beta = 1\n",
    "i = 10 \n",
    "\n",
    "# Run simulation\n",
    "total_rewards = []\n",
    "for patch in patches:\n",
    "    print(patch)\n",
    "    patch.start_harvesting()  # Start harvesting on the current patch\n",
    "    rewards = []\n",
    "    time = 0\n",
    "    while True:\n",
    "        reward = patch.get_reward()\n",
    "        rewards.append(reward)\n",
    "        print(reward)\n",
    "        probabilities = np.exp(beta * reward) / np.sum(np.exp(beta * reward))\n",
    "        print(probabilities)\n",
    "        i-=1\n",
    "        if i < 0 :\n",
    "            break"
   ]
  },
  {
   "cell_type": "code",
   "execution_count": 7,
   "metadata": {},
   "outputs": [
    {
     "name": "stdout",
     "output_type": "stream",
     "text": [
      "Mean Leaving Time: 0.0\n",
      "Variance in Leaving Time: 0.0\n"
     ]
    }
   ],
   "source": [
    "# Initialize variables to track performance\n",
    "leave_times = []\n",
    "\n",
    "# Run simulation\n",
    "total_rewards = []\n",
    "for patch in patches:\n",
    "    patch.start_harvesting()  # Start harvesting on the current patch\n",
    "    rewards = []\n",
    "    time = 0\n",
    "    while True:\n",
    "        reward = patch.get_reward()\n",
    "        rewards.append(reward)\n",
    "        if agent.choose_action(rewards) == 1:  # Decision to leave\n",
    "            break\n",
    "        time += 1\n",
    "    leave_times.append(time)\n",
    "    total_rewards.append(sum(rewards))\n",
    "    patch.harvesting = False  # Stop harvesting when leaving the patch\n",
    "\n",
    "# Calculate mean and variance of leaving times\n",
    "E_leave = np.mean(leave_times)\n",
    "VAR_leave = np.var(leave_times)\n",
    "\n",
    "print(f\"Mean Leaving Time: {E_leave}\")\n",
    "print(f\"Variance in Leaving Time: {VAR_leave}\")"
   ]
  },
  {
   "cell_type": "code",
   "execution_count": 5,
   "metadata": {},
   "outputs": [
    {
     "data": {
      "text/plain": [
       "[0, 0, 0, 0, 0, 0, 0, 0, 0, 0]"
      ]
     },
     "execution_count": 5,
     "metadata": {},
     "output_type": "execute_result"
    }
   ],
   "source": [
    "leave_times"
   ]
  },
  {
   "cell_type": "code",
   "execution_count": 4,
   "metadata": {},
   "outputs": [],
   "source": [
    "# Step 2: Run Agents on the World Model\n",
    "\n",
    "# Step 2a: Compute normative expected leaving time for each patch (assuming MVT)\n",
    "def compute_mvt_leave_time(patch, background_reward_rate):\n",
    "    time = 0\n",
    "    while True:\n",
    "        reward_rate = patch.initial_yield * np.exp(-patch.decay_rate * time)\n",
    "        if reward_rate < background_reward_rate:\n",
    "            break\n",
    "        time += 1\n",
    "    return time\n",
    "\n",
    "background_reward_rate = np.mean(initial_yields) * decay_rate  # Simplified background reward rate"
   ]
  },
  {
   "cell_type": "code",
   "execution_count": 38,
   "metadata": {},
   "outputs": [
    {
     "name": "stdout",
     "output_type": "stream",
     "text": [
      "P(stay): 0.7119425781966999\n",
      "P(leave): 0.2880574218033001\n"
     ]
    }
   ],
   "source": [
    "def sigmoid(z):\n",
    "    return 1 / (1 + np.exp(-z))\n",
    "\n",
    "def compute_logit(weight, bias, x, R0, lambda_, t):\n",
    "    return (np.dot(weight, x) + bias) * R0 * np.exp(-lambda_ * t)\n",
    "\n",
    "# Example parameters\n",
    "weights_stay = np.array([0])  # Weight vector for \"stay\"\n",
    "weights_leave = np.array([0])  # Weight vector for \"leave\"\n",
    "bias_stay = 0.5\n",
    "bias_leave = -0.5\n",
    "x = np.array([1])  # Input feature vector\n",
    "R0 = 1  # Initial reward\n",
    "lambda_ = 0.1  # Decay rate\n",
    "t = 1  # Time\n",
    "\n",
    "# Compute logits for \"stay\" and \"leave\"\n",
    "logit_stay = compute_logit(weights_stay, bias_stay, x, R0, lambda_, t)\n",
    "logit_leave = compute_logit(weights_leave, bias_leave, x, R0, lambda_, t)\n",
    "\n",
    "# Compute the logit difference\n",
    "logit_difference = logit_stay - logit_leave\n",
    "\n",
    "# Compute probabilities using the sigmoid function\n",
    "P_stay = sigmoid(logit_difference)\n",
    "P_leave = 1 - P_stay\n",
    "\n",
    "print(f\"P(stay): {P_stay}\")\n",
    "print(f\"P(leave): {P_leave}\")"
   ]
  },
  {
   "cell_type": "code",
   "execution_count": null,
   "metadata": {},
   "outputs": [],
   "source": []
  }
 ],
 "metadata": {
  "kernelspec": {
   "display_name": "my_adc",
   "language": "python",
   "name": "python3"
  },
  "language_info": {
   "codemirror_mode": {
    "name": "ipython",
    "version": 3
   },
   "file_extension": ".py",
   "mimetype": "text/x-python",
   "name": "python",
   "nbconvert_exporter": "python",
   "pygments_lexer": "ipython3",
   "version": "3.9.18"
  }
 },
 "nbformat": 4,
 "nbformat_minor": 2
}
