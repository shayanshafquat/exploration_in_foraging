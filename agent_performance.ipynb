{
 "cells": [
  {
   "cell_type": "code",
   "execution_count": 1,
   "metadata": {},
   "outputs": [],
   "source": [
    "import numpy as np\n",
    "import matplotlib.pyplot as plt\n",
    "from world import Patch, Agent"
   ]
  },
  {
   "cell_type": "code",
   "execution_count": 2,
   "metadata": {},
   "outputs": [],
   "source": [
    "# Step 1a: Specify a world with P patch types and N patches\n",
    "P = 5  # Number of patch types\n",
    "N = 10  # Number of patches\n",
    "patch_types = np.random.choice(P, N, replace=True)\n",
    "initial_yields = np.random.rand(P) * 10  # Initial yield for each patch type\n",
    "decay_rate = 0.1  # Decay rate for all patches"
   ]
  },
  {
   "cell_type": "code",
   "execution_count": 11,
   "metadata": {},
   "outputs": [],
   "source": [
    "# Step 1a: Create patches based on the world specification\n",
    "patches = [Patch(initial_yields[patch_type], decay_rate) for patch_type in patch_types]\n",
    "agent = Agent(beta=0.7, intercept = 0)  # Softmax parameter"
   ]
  },
  {
   "cell_type": "code",
   "execution_count": 7,
   "metadata": {},
   "outputs": [],
   "source": [
    "leave_times = []\n",
    "beta = 0.5\n",
    "intercept = 2\n",
    "i = 10 \n",
    "\n",
    "# Run simulation\n",
    "total_rewards = []\n",
    "for patch in patches:\n",
    "    print(patch)\n",
    "    patch.start_harvesting()  # Start harvesting on the current patch\n",
    "    rewards = []\n",
    "    time = 0\n",
    "    while True:\n",
    "        reward = patch.get_reward()\n",
    "        # rewards.append(reward)\n",
    "        leave_proba = 1 / (1 + np.exp(intercept + beta * reward))\n",
    "        print(reward, leave_proba)\n",
    "        i-=1\n",
    "        if i < 0 :\n",
    "            break"
   ]
  },
  {
   "cell_type": "code",
   "execution_count": 12,
   "metadata": {},
   "outputs": [
    {
     "name": "stdout",
     "output_type": "stream",
     "text": [
      "Mean Leaving Time: 1.6\n",
      "Variance in Leaving Time: 2.6400000000000006\n"
     ]
    }
   ],
   "source": [
    "# Initialize variables to track performance\n",
    "leave_times = []\n",
    "\n",
    "# Run simulation\n",
    "total_rewards = []\n",
    "for patch in patches:\n",
    "    patch.start_harvesting()  # Start harvesting on the current patch\n",
    "    rewards = []\n",
    "    time = 0\n",
    "    while True:\n",
    "        reward = patch.get_reward()\n",
    "        # rewards.append(reward)\n",
    "        if agent.choose_action(reward) == 1:  # Decision to leave\n",
    "            break\n",
    "        time += 1\n",
    "    leave_times.append(time)\n",
    "    # total_rewards.append(sum(rewards))\n",
    "    patch.harvesting = False  # Stop harvesting when leaving the patch\n",
    "\n",
    "# Calculate mean and variance of leaving times\n",
    "E_leave = np.mean(leave_times)\n",
    "VAR_leave = np.var(leave_times)\n",
    "\n",
    "print(f\"Mean Leaving Time: {E_leave}\")\n",
    "print(f\"Variance in Leaving Time: {VAR_leave}\")"
   ]
  },
  {
   "cell_type": "code",
   "execution_count": 13,
   "metadata": {},
   "outputs": [
    {
     "data": {
      "text/plain": [
       "[1, 2, 1, 0, 2, 1, 4, 5, 0, 0]"
      ]
     },
     "execution_count": 13,
     "metadata": {},
     "output_type": "execute_result"
    }
   ],
   "source": [
    "leave_times"
   ]
  },
  {
   "cell_type": "code",
   "execution_count": 15,
   "metadata": {},
   "outputs": [],
   "source": [
    "# Step 2: Run Agents on the World Model\n",
    "\n",
    "# Step 2a: Compute normative expected leaving time for each patch (assuming MVT)\n",
    "def compute_mvt_leave_time(patch, background_reward_rate):\n",
    "    time = 0\n",
    "    while True:\n",
    "        reward_rate = patch.initial_yield * np.exp(-patch.decay_rate * time)\n",
    "        if reward_rate < background_reward_rate:\n",
    "            break\n",
    "        time += 1\n",
    "    return time\n",
    "\n",
    "background_reward_rate = np.mean(initial_yields) * decay_rate  # Simplified background reward rate"
   ]
  },
  {
   "cell_type": "code",
   "execution_count": 19,
   "metadata": {},
   "outputs": [
    {
     "data": {
      "text/plain": [
       "[0, 9, 2, 30, 34]"
      ]
     },
     "execution_count": 19,
     "metadata": {},
     "output_type": "execute_result"
    }
   ],
   "source": [
    "stay_times = [compute_mvt_leave_time(Patch(yield_, decay_rate),\n",
    "                                    background_reward_rate) for yield_ in initial_yields]\n",
    "stay_times"
   ]
  },
  {
   "cell_type": "markdown",
   "metadata": {},
   "source": [
    "### Patch effect: Increasing yield"
   ]
  },
  {
   "cell_type": "code",
   "execution_count": 21,
   "metadata": {},
   "outputs": [
    {
     "data": {
      "text/plain": [
       "[0, 18, 24, 27, 30]"
      ]
     },
     "execution_count": 21,
     "metadata": {},
     "output_type": "execute_result"
    }
   ],
   "source": [
    "increased_yields = np.linspace(1, 20, P)\n",
    "inc_background_reward_rate = np.mean(increased_yields) * decay_rate\n",
    "longer_stay_times = [compute_mvt_leave_time(Patch(yield_, decay_rate), \n",
    "                                            inc_background_reward_rate) for yield_ in increased_yields]\n",
    "longer_stay_times"
   ]
  }
 ],
 "metadata": {
  "kernelspec": {
   "display_name": "my_adc",
   "language": "python",
   "name": "python3"
  },
  "language_info": {
   "codemirror_mode": {
    "name": "ipython",
    "version": 3
   },
   "file_extension": ".py",
   "mimetype": "text/x-python",
   "name": "python",
   "nbconvert_exporter": "python",
   "pygments_lexer": "ipython3",
   "version": "3.9.10"
  }
 },
 "nbformat": 4,
 "nbformat_minor": 2
}
